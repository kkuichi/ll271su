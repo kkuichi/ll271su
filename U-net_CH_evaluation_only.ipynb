{
 "cells": [
  {
   "cell_type": "markdown",
   "metadata": {},
   "source": [
    "# Segmentation of selected solar corona structures\n",
    "\n",
    "# <font color=\"red\">Evaluation and testing only: Segmentation of Coronal Holes\n",
    "\n",
    "\n",
    "---\n",
    "\n",
    "\n",
    "### Author: Bc. Ľubomír Lazor\n",
    "### Supervisor: doc. Ing. Martin Sarnovský, PhD.\n",
    "Department of Cybernetics and Artificial Intelligence, Faculty of Electrical Engineering and Informatics, Technical University of Košice, Košice, Slovakia\n",
    "\n",
    "\n",
    "## Abstract\n",
    "This thesis explores the use of deep learning for the automated segmentation of coronal holes (CHs) and active regions (ARs) in solar EUV images. These structures are key to understanding solar activity and predicting space weather. Building on the SCSS-Net model, a U-Net-based architecture, this work combines theoretical insights with practical modeling to assess performance of various configurations. The results show that deep learning can offer a reliable, scalable solution for the segmentation of solar structures driven by thoughtful data handling and model design.\n",
    "\n",
    "---\n",
    "\n",
    "### Disclaimer: this code is based on SCSS-Net"
   ]
  },
  {
   "cell_type": "markdown",
   "metadata": {},
   "source": [
    "Overview of the notebook:\n",
    "1. Environment set-up\n",
    "2. The only things that you need to change\n",
    "3. Evaluation\n",
    "4. (OPTIONAL) Custom threshold for binary predictions\n",
    "5. Visualization\n",
    "6. Reiss dataset visualization"
   ]
  },
  {
   "cell_type": "markdown",
   "metadata": {},
   "source": [
    "# 1. Enviroment set-up"
   ]
  },
  {
   "cell_type": "markdown",
   "metadata": {},
   "source": [
    "* Set-up the environment"
   ]
  },
  {
   "cell_type": "code",
   "execution_count": null,
   "metadata": {},
   "outputs": [],
   "source": [
    "import sys, os\n",
    "!pip install -r requirements.txt\n",
    "sys.path.append('../scss-net/src')"
   ]
  },
  {
   "cell_type": "markdown",
   "metadata": {},
   "source": [
    "* Import libraries"
   ]
  },
  {
   "cell_type": "code",
   "execution_count": null,
   "metadata": {},
   "outputs": [],
   "source": [
    "import glob\n",
    "from PIL import Image\n",
    "import numpy as np\n",
    "import matplotlib.pylab as plt\n",
    "import tensorflow as tf\n",
    "from tensorflow.keras.models import load_model\n",
    "from tensorflow.keras.preprocessing import image"
   ]
  },
  {
   "cell_type": "markdown",
   "metadata": {},
   "source": [
    "* Import local utilities"
   ]
  },
  {
   "cell_type": "code",
   "execution_count": null,
   "metadata": {},
   "outputs": [],
   "source": [
    "from src.model_scss_net import scss_net\n",
    "from src.metrics import dice_np, iou_np, dice, iou\n",
    "from src.utils import plot_imgs, plot_metrics"
   ]
  },
  {
   "cell_type": "markdown",
   "metadata": {},
   "source": [
    "# 2. The only things that you need to change\n",
    "test_images/masks_path - the directory of the images and masks you want to use for testing\n",
    "<br>mode_path - the directory of the model you want to use \n",
    "\n",
    "(it has to be a full model, not just weights, check \"5. Extra tips (potential fixes)\" in \"U-net_CH.ipynb\" for more information"
   ]
  },
  {
   "cell_type": "code",
   "execution_count": null,
   "metadata": {},
   "outputs": [],
   "source": [
    "# Paths relative to scss-net folder, if they are outside of it, they have to be defined from the root directory\n",
    "# Load images\n",
    "test_images_path = \"/data/CH/images_renamed/test/*.png\"\n",
    "test_masks_path = \"/data/CH/masks_renamed/test/*.png\"\n",
    "\n",
    "# Load model\n",
    "model_path = 'models/ch_model.h5'"
   ]
  },
  {
   "cell_type": "markdown",
   "metadata": {},
   "source": [
    "* Prepare test set(load, resize, convert, normalize and reshape testing data)"
   ]
  },
  {
   "cell_type": "code",
   "execution_count": null,
   "metadata": {},
   "outputs": [],
   "source": [
    "IMG_SIZE = 256  # Resize images to 256x256\n",
    "\n",
    "imgs_test = sorted(glob.glob(test_images_path))\n",
    "masks_test = sorted(glob.glob(test_masks_path))\n",
    "\n",
    "print(f\"Imgs number = {len(imgs_test)}\\nMasks number = {len(masks_test)}\")\n",
    "\n",
    "# Convert images to numpy array\n",
    "imgs_test_list = []\n",
    "masks_test_list = []\n",
    "for image, mask in zip(imgs_test, masks_test):\n",
    "    imgs_test_list.append(np.array(Image.open(image).convert(\"L\").resize((IMG_SIZE, IMG_SIZE))))\n",
    "    masks_test_list.append(np.array(Image.open(mask).convert(\"L\").resize((IMG_SIZE, IMG_SIZE))))\n",
    "\n",
    "# Normalization from (0; 255) to (0; 1)\n",
    "x_test = np.asarray(imgs_test_list, dtype=np.float32)/255\n",
    "y_test = np.asarray(masks_test_list, dtype=np.float32)/255\n",
    "\n",
    "# Reshape to (n_imgs, height, width, channels)\n",
    "x_test = x_test.reshape(x_test.shape[0], x_test.shape[1], x_test.shape[2], 1)\n",
    "y_test = y_test.reshape(y_test.shape[0], y_test.shape[1], y_test.shape[2], 1)"
   ]
  },
  {
   "cell_type": "markdown",
   "metadata": {},
   "source": [
    "* Load the pre-trained model and its metrics"
   ]
  },
  {
   "cell_type": "code",
   "execution_count": null,
   "metadata": {},
   "outputs": [],
   "source": [
    "# Define the custom objects (iou and dice)\n",
    "custom_objects = {\n",
    "    'iou': iou,\n",
    "    'dice': dice\n",
    "}\n",
    "\n",
    "# Load the model and pass the custom objects\n",
    "model = load_model(model_path, custom_objects=custom_objects)\n",
    "\n",
    "# Check the model summary to confirm it's loaded correctly\n",
    "#print(model.summary())"
   ]
  },
  {
   "cell_type": "markdown",
   "metadata": {},
   "source": [
    "## 3. Evaluation"
   ]
  },
  {
   "cell_type": "markdown",
   "metadata": {},
   "source": [
    "* Predict new masks for test set"
   ]
  },
  {
   "cell_type": "code",
   "execution_count": null,
   "metadata": {},
   "outputs": [],
   "source": [
    "y_pred = model.predict(x_test)"
   ]
  },
  {
   "cell_type": "markdown",
   "metadata": {},
   "source": [
    "* Calculate the best threshold value"
   ]
  },
  {
   "cell_type": "code",
   "execution_count": null,
   "metadata": {},
   "outputs": [],
   "source": [
    "# Find the best threshold and save it to global variables\n",
    "\n",
    "best_threshold = 0\n",
    "best_dice = 0\n",
    "\n",
    "for threshold in np.arange(0, 1.05, 0.05):\n",
    "    y_pred_bin = np.where(y_pred > threshold, 1, 0)\n",
    "    \n",
    "    dice_tresh = np.round(dice_np(y_test, y_pred_bin), 4)\n",
    "    iou_tresh = np.round(iou_np(y_test, y_pred_bin), 4)\n",
    "    \n",
    "    if dice_tresh > best_dice:\n",
    "        best_dice = dice_tresh\n",
    "        best_threshold = threshold\n",
    "        best_iou = iou_tresh\n",
    "    print(f\"Threshold: {round(threshold,2)} | Dice Score: {dice_tresh} | IoU Score: {iou_tresh}\")\n",
    "\n",
    "print(f\"Best Threshold: {round(best_threshold,2)} with Dice Score: {best_dice} and IoU Score: {best_iou}\")"
   ]
  },
  {
   "cell_type": "markdown",
   "metadata": {},
   "source": [
    "* Create a binary prediction based on the best theshold"
   ]
  },
  {
   "cell_type": "code",
   "execution_count": null,
   "metadata": {},
   "outputs": [],
   "source": [
    "# Binary prediction with the best threshold\n",
    "y_pred_bin = np.where(y_pred > best_threshold, 1, 0)\n",
    "\n",
    "dice = np.round(dice_np(y_test, y_pred), 4)\n",
    "iou_test = np.round(iou_np(y_test, y_pred), 4)\n",
    "\n",
    "dice_tresh = np.round(dice_np(y_test, y_pred_bin), 4)\n",
    "iou_test_tresh = np.round(iou_np(y_test, y_pred_bin), 4)\n",
    "\n",
    "print(f\"Test:\\nDice: {dice} Dice_tresh: {dice_tresh}\\n IoU: {iou_test} IoU_tresh: {iou_test_tresh}\\n\")"
   ]
  },
  {
   "cell_type": "markdown",
   "metadata": {},
   "source": [
    "## 4. (OPTIONAL) Custom threshold for binary predictions\n",
    "\n",
    "In case you want to try a custom threshold, you can do so here"
   ]
  },
  {
   "cell_type": "code",
   "execution_count": null,
   "metadata": {},
   "outputs": [],
   "source": [
    "# Set a global variable threshold to desired value between 0 and 1\n",
    "threshold = 0.01\n",
    "\n",
    "# Create binary prediction\n",
    "y_pred_bin = np.where(y_pred > threshold, 1, 0)\n",
    "    \n",
    "dice_tresh = np.round(dice_np(y_test, y_pred_bin), 4)\n",
    "iou_tresh = np.round(iou_np(y_test, y_pred_bin), 4)\n",
    "    \n",
    "\n",
    "print(f\"Threshold: {round(threshold,2)} | Dice Score: {dice_tresh} | IoU Score: {iou_tresh}\")"
   ]
  },
  {
   "cell_type": "markdown",
   "metadata": {},
   "source": [
    "## 5. Visualization"
   ]
  },
  {
   "cell_type": "markdown",
   "metadata": {},
   "source": [
    "* Function designed to show random images from the test set wihtout metrics\n",
    "\n",
    "* Visualization of the predicted segmentation: \n",
    " - Image: input image \n",
    " - Mask: ground truth (annotation mask)\n",
    " - Prediction: output of the model (predicted segmentation mask)\n",
    " - Overlay: predicted segmentation mask overlaid on the input image"
   ]
  },
  {
   "cell_type": "code",
   "execution_count": null,
   "metadata": {},
   "outputs": [],
   "source": [
    "import random\n",
    "\n",
    "def plot_no_metrics_random(imgs, masks, predictions, n_imgs=10, seed=None):\n",
    "    \"\"\"\n",
    "    Plots a random subset of images, masks, and predictions, with optional reproducible randomness.\n",
    "    \n",
    "    :param numpy.array imgs: array of images\n",
    "    :param numpy.array masks: array of masks\n",
    "    :param numpy.array predictions: array of predictions\n",
    "    :param int n_imgs: number of images to plot\n",
    "    :param int seed: (Optional) Random seed for reproducibility\n",
    "    :return: matplotlib.pyplot object\n",
    "    \"\"\"\n",
    "    if seed is not None:\n",
    "        random.seed(seed)  # Set seed for reproducibility\n",
    "\n",
    "    total_imgs = len(imgs)\n",
    "    n_imgs = min(n_imgs, total_imgs)  # Ensure we don't exceed available images\n",
    "\n",
    "    # Randomly select `n_imgs` indices\n",
    "    random_indices = random.sample(range(total_imgs), n_imgs)\n",
    "    \n",
    "    fig, axs = plt.subplots(n_imgs, 4, figsize=(16, n_imgs * 4), squeeze=False)\n",
    "\n",
    "    for row_idx, img_idx in enumerate(random_indices):  \n",
    "        img = imgs[img_idx].squeeze()  \n",
    "        mask = masks[img_idx].squeeze()\n",
    "        pred = predictions[img_idx].squeeze()\n",
    "\n",
    "        # Create red overlay (RGBA: Red, Green, Blue, Alpha)\n",
    "        red_overlay = np.zeros((*pred.shape, 4))  \n",
    "        red_overlay[..., 0] = pred  # Red channel\n",
    "        red_overlay[..., 3] = pred  # Alpha (opacity based on prediction)\n",
    "\n",
    "        # Set titles (only on the first row)\n",
    "        if row_idx == 0:\n",
    "            axs[0, 0].set_title(\"Image\", fontsize=15)\n",
    "            axs[0, 1].set_title(\"SPoCA Segmentation\", fontsize=15)\n",
    "            axs[0, 2].set_title(\"U-Net prediction\", fontsize=15)\n",
    "            axs[0, 3].set_title(\"Overlay\", fontsize=15)\n",
    "\n",
    "        # Show images\n",
    "        axs[row_idx, 0].imshow(img, cmap=\"gray\", interpolation=None)\n",
    "        axs[row_idx, 1].imshow(mask, cmap=\"gray\", interpolation=None)\n",
    "        axs[row_idx, 2].imshow(pred, cmap=\"gray\", interpolation=None)\n",
    "        axs[row_idx, 3].imshow(img, cmap=\"gray\", interpolation=None)  # Background\n",
    "        axs[row_idx, 3].imshow(red_overlay)  # Overlay red mask on top\n",
    "\n",
    "        # Hide axes\n",
    "        for j in range(4):\n",
    "            axs[row_idx, j].axis(\"off\")\n",
    "    \n",
    "    plt.tight_layout()\n",
    "    return plt"
   ]
  },
  {
   "cell_type": "markdown",
   "metadata": {},
   "source": [
    "* Normal segmentation prediction visualization"
   ]
  },
  {
   "cell_type": "code",
   "execution_count": null,
   "metadata": {},
   "outputs": [],
   "source": [
    "plot_no_metrics_random(imgs=x_test, masks=y_test, predictions=y_pred, n_imgs=10, seed=42).show()"
   ]
  },
  {
   "cell_type": "markdown",
   "metadata": {},
   "source": [
    "* Binary segmentation prediction visualization"
   ]
  },
  {
   "cell_type": "code",
   "execution_count": null,
   "metadata": {},
   "outputs": [],
   "source": [
    "y_pred_b = model.predict(x_test)\n",
    "plot_no_metrics_random(imgs=x_test, masks=y_test, predictions=y_pred_bin, n_imgs=10, seed=42).show()"
   ]
  },
  {
   "cell_type": "markdown",
   "metadata": {},
   "source": [
    "# 6. Reiss dataset visualization\n",
    "* This section is designed to compare the models with the masks from CHRONNOS on images from dataset created by Reiss et. al. (2024)"
   ]
  },
  {
   "cell_type": "markdown",
   "metadata": {},
   "source": [
    "* Custom function to plot all 29 images along with masks\n",
    "\n",
    "* Visualization of the predicted segmentation: \n",
    " - Image: input image \n",
    " - Mask: ground truth (CHRONNOS annotation mask)\n",
    " - Prediction: output of the model (predicted segmentation mask)\n",
    " - Overlay: predicted segmentation mask overlaid on the input image"
   ]
  },
  {
   "cell_type": "code",
   "execution_count": null,
   "metadata": {},
   "outputs": [],
   "source": [
    "def plot_no_metrics(imgs, masks, predictions, n_imgs=29):\n",
    "    \"\"\"\n",
    "    Plots images, masks, prediction masks, and overlays side by side.\n",
    "    \n",
    "    :param numpy.array imgs: array of images\n",
    "    :param numpy.array masks: array of CHRONNOS masks\n",
    "    :param numpy.array predictions: array of predictions\n",
    "    :param int n_imgs: number of images to plot\n",
    "    :return: matplotlib.pyplot object\n",
    "    \"\"\"\n",
    "    n_imgs = min(n_imgs, len(imgs))  # Ensure we don't exceed available images\n",
    "    \n",
    "    fig, axs = plt.subplots(n_imgs, 4, figsize=(16, n_imgs * 4), squeeze=False)\n",
    "    \n",
    "    for i in range(n_imgs):\n",
    "        img = imgs[i].squeeze()  # Convert (H, W, 1) → (H, W)\n",
    "        mask = masks[i].squeeze()\n",
    "        pred = predictions[i].squeeze()\n",
    "\n",
    "        # Create red overlay (RGBA: Red, Green, Blue, Alpha)\n",
    "        red_overlay = np.zeros((*pred.shape, 4))  # (H, W, 4) for RGBA\n",
    "        red_overlay[..., 0] = pred  # Red channel\n",
    "        red_overlay[..., 3] = pred  # Alpha channel (opacity based on prediction)\n",
    "\n",
    "        # Set titles (only on the first row)\n",
    "        if i == 0:\n",
    "            axs[0, 0].set_title(\"Image\", fontsize=15)\n",
    "            axs[0, 1].set_title(\"CHRONNOS segmentation\", fontsize=15)\n",
    "            axs[0, 2].set_title(\"U-Net prediction\", fontsize=15)\n",
    "            axs[0, 3].set_title(\"Overlay\", fontsize=15)\n",
    "\n",
    "        # Show images\n",
    "        axs[i, 0].imshow(img, cmap=\"gray\", interpolation=None)\n",
    "        axs[i, 1].imshow(mask, cmap=\"gray\", interpolation=None)\n",
    "        axs[i, 2].imshow(pred, cmap=\"gray\", interpolation=None)\n",
    "        axs[i, 3].imshow(img, cmap=\"gray\", interpolation=None)  # Background\n",
    "        axs[i, 3].imshow(red_overlay)  # Overlay red mask on top\n",
    "\n",
    "        # Hide axes\n",
    "        for j in range(4):\n",
    "            axs[i, j].axis(\"off\")\n",
    "    \n",
    "    plt.tight_layout()\n",
    "    return plt"
   ]
  },
  {
   "cell_type": "markdown",
   "metadata": {},
   "source": [
    "* Prepare Reiss dataset for our use(load, resize, convert, normalize and reshape testing data)"
   ]
  },
  {
   "cell_type": "code",
   "execution_count": null,
   "metadata": {},
   "outputs": [],
   "source": [
    "imgs_test = sorted(glob.glob(\"Reiss_dataset/images/*.png\"))\n",
    "masks_test = sorted(glob.glob(\"Reiss_dataset/masks/*.png\"))\n",
    "\n",
    "print(f\"Imgs number = {len(imgs_test)}\\nMasks number = {len(masks_test)}\")\n",
    "\n",
    "# Load data and convert images to numpy array\n",
    "imgs_test_list = []\n",
    "masks_test_list = []\n",
    "for image, mask in zip(imgs_test, masks_test):\n",
    "    imgs_test_list.append(np.array(Image.open(image).convert(\"L\").resize((IMG_SIZE, IMG_SIZE))))\n",
    "    masks_test_list.append(np.array(Image.open(mask).convert(\"L\").resize((IMG_SIZE, IMG_SIZE))))\n",
    "\n",
    "# Normalization from (0; 255) to (0; 1)\n",
    "x_test = np.asarray(imgs_test_list, dtype=np.float32)/255\n",
    "y_test = np.asarray(masks_test_list, dtype=np.float32)/255\n",
    "\n",
    "# Reshape to (n_imgs, height, width, channels)\n",
    "x_test = x_test.reshape(x_test.shape[0], x_test.shape[1], x_test.shape[2], 1)\n",
    "y_test = y_test.reshape(y_test.shape[0], y_test.shape[1], y_test.shape[2], 1)"
   ]
  },
  {
   "cell_type": "markdown",
   "metadata": {},
   "source": [
    "* Load the pre-trained model and its metrics"
   ]
  },
  {
   "cell_type": "code",
   "execution_count": null,
   "metadata": {},
   "outputs": [],
   "source": [
    "# Define the custom objects (iou and dice)\n",
    "custom_objects = {\n",
    "    'iou': iou,\n",
    "    'dice': dice\n",
    "}\n",
    "\n",
    "# Load the model and pass the custom objects\n",
    "model = load_model('models/final/ch_model.h5', custom_objects=custom_objects)\n",
    "\n",
    "# Check the model summary to confirm it's loaded correctly\n",
    "#print(model.summary())"
   ]
  },
  {
   "cell_type": "markdown",
   "metadata": {},
   "source": [
    "* Predict new masks for test set"
   ]
  },
  {
   "cell_type": "code",
   "execution_count": null,
   "metadata": {},
   "outputs": [],
   "source": [
    "y_pred = model.predict(x_test)"
   ]
  },
  {
   "cell_type": "markdown",
   "metadata": {},
   "source": [
    "* Calculate the best threshold value"
   ]
  },
  {
   "cell_type": "code",
   "execution_count": null,
   "metadata": {},
   "outputs": [],
   "source": [
    "best_threshold = 0\n",
    "best_dice = 0\n",
    "\n",
    "for threshold in np.arange(0, 1.05, 0.05):\n",
    "    y_pred_bin = np.where(y_pred > threshold, 1, 0)\n",
    "    \n",
    "    dice_tresh = np.round(dice_np(y_test, y_pred_bin), 4)\n",
    "    iou_tresh = np.round(iou_np(y_test, y_pred_bin), 4)\n",
    "    \n",
    "    if dice_tresh > best_dice:\n",
    "        best_dice = dice_tresh\n",
    "        best_threshold = threshold\n",
    "        best_iou = iou_tresh\n",
    "    print(f\"Threshold: {round(threshold,2)} | Dice Score: {dice_tresh} | IoU Score: {iou_tresh}\")\n",
    "\n",
    "print(f\"Best Threshold: {round(best_threshold,2)} with Dice Score: {best_dice} and IoU Score: {best_iou}\")"
   ]
  },
  {
   "cell_type": "markdown",
   "metadata": {},
   "source": [
    "* Create a binary prediction based on the best theshold"
   ]
  },
  {
   "cell_type": "code",
   "execution_count": null,
   "metadata": {},
   "outputs": [],
   "source": [
    "y_pred_bin = np.where(y_pred > best_threshold, 1, 0)\n",
    "\n",
    "dice = np.round(dice_np(y_test, y_pred), 4)\n",
    "iou_test = np.round(iou_np(y_test, y_pred), 4)\n",
    "\n",
    "dice_tresh = np.round(dice_np(y_test, y_pred_bin), 4)\n",
    "iou_test_tresh = np.round(iou_np(y_test, y_pred_bin), 4)\n",
    "\n",
    "print(f\"Test:\\nDice: {dice} Dice_tresh: {dice_tresh}\\n IoU: {iou_test} IoU_tresh: {iou_test_tresh}\\n\")"
   ]
  },
  {
   "cell_type": "markdown",
   "metadata": {},
   "source": [
    "### Custom threshold\n",
    "* Create a binary prediction with a custom threshold"
   ]
  },
  {
   "cell_type": "code",
   "execution_count": null,
   "metadata": {},
   "outputs": [],
   "source": [
    "y_pred_bin = np.where(y_pred > 0.01, 1, 0)  # Set threshold for predicted values\n",
    "\n",
    "dice = np.round(dice_np(y_test, y_pred), 4)\n",
    "iou_test = np.round(iou_np(y_test, y_pred), 4)\n",
    "\n",
    "dice_tresh = np.round(dice_np(y_test, y_pred_bin), 4)\n",
    "iou_test_tresh = np.round(iou_np(y_test, y_pred_bin), 4)\n",
    "\n",
    "print(f\"Test:\\nDice: {dice} Dice_tresh: {dice_tresh}\\n IoU: {iou_test} IoU_tresh: {iou_test_tresh}\\n\")"
   ]
  },
  {
   "cell_type": "markdown",
   "metadata": {},
   "source": [
    "* Binary segmentation prediction visualization on the whole Reiss dataset"
   ]
  },
  {
   "cell_type": "code",
   "execution_count": null,
   "metadata": {},
   "outputs": [],
   "source": [
    "y_pred_b = model.predict(x_test)  \n",
    "plot_no_metrics(imgs=x_test, masks=y_test, predictions=y_pred_bin, n_imgs=29).show()"
   ]
  }
 ],
 "metadata": {
  "kernelspec": {
   "display_name": "Python 3 (ipykernel)",
   "language": "python",
   "name": "python3"
  },
  "language_info": {
   "codemirror_mode": {
    "name": "ipython",
    "version": 3
   },
   "file_extension": ".py",
   "mimetype": "text/x-python",
   "name": "python",
   "nbconvert_exporter": "python",
   "pygments_lexer": "ipython3",
   "version": "3.8.3"
  }
 },
 "nbformat": 4,
 "nbformat_minor": 5
}
